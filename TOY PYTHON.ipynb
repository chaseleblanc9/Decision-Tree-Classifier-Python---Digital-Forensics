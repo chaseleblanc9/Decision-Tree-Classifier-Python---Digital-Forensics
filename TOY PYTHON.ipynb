{
 "cells": [
  {
   "cell_type": "markdown",
   "metadata": {},
   "source": [
    "Toy from Book"
   ]
  },
  {
   "cell_type": "code",
   "execution_count": null,
   "metadata": {},
   "outputs": [],
   "source": [
    "# import sklearn modules\n",
    "from sklearn import tree\n",
    "from sklearn.feature_extraction import DictVectorizer\n",
    "# initialize the decision tree classifier and vectorizer\n",
    "classifier = tree.DecisionTreeClassifier()\n",
    "vectorizer = DictVectorizer(sparse=False)\n",
    "# declare toy training data\n",
    "training_examples = [\n",
    "{'packed':1,'contains_encrypted':0},\n",
    "{'packed':0,'contains_encrypted':0},\n",
    "{'packed':1,'contains_encrypted':1},\n",
    "{'packed':1,'contains_encrypted':0},\n",
    "{'packed':0,'contains_encrypted':1},\n",
    "{'packed':1,'contains_encrypted':0},\n",
    "{'packed':0,'contains_encrypted':0},\n",
    "{'packed':0,'contains_encrypted':0},\n",
    "]\n",
    "ground_truth = [1,1,1,1,0,0,0,0]\n",
    "# initialize the vectorizer with the training data\n",
    "vectorizer.fit(training_examples)\n",
    "\n",
    "# transform the training examples to vector form\n",
    "X = vectorizer.transform(training_examples)\n",
    "y = ground_truth # call ground truth 'y', by convention\n",
    "# train the classifier (a.k.a. 'fit' the classifier)\n",
    "classifier.fit(X,y)\n",
    "test_example = {'packed':1,'contains_encrypted':0}\n",
    "test_vector = vectorizer.transform(test_example)\n",
    "print `classifier.predict(test_vector)` # prints [1]\n",
    "#visualize the decision tree\n",
    "with open(\"classifier.dot\",\"w\") as output_file:\n",
    "    tree.export_graphviz(\n",
    "        classifier,\n",
    "        feature_names=vectorizer.get_feature_names(),\n",
    "        out_file=output_file\n",
    "    )\n",
    "\n",
    "import os\n",
    "os.system(\"dot classifier.dot -Tpng -o classifier.png\")\n",
    "\n"
   ]
  },
  {
   "cell_type": "markdown",
   "metadata": {},
   "source": [
    "Changes to Program"
   ]
  },
  {
   "cell_type": "code",
   "execution_count": null,
   "metadata": {},
   "outputs": [],
   "source": [
    "# import sklearn modules\n",
    "from sklearn import tree\n",
    "from sklearn.feature_extraction import DictVectorizer\n",
    "# initialize the decision tree classifier and vectorizer\n",
    "classifier = tree.DecisionTreeClassifier()\n",
    "vectorizer = DictVectorizer(sparse=False)\n",
    "# declare toy training data\n",
    "training_examples = [\n",
    "{'packed':1,'contains_encrypted':0},\n",
    "{'packed':0,'contains_encrypted':0},\n",
    "{'packed':1,'contains_encrypted':1},\n",
    "{'packed':1,'contains_encrypted':0},\n",
    "{'packed':0,'contains_encrypted':1},\n",
    "{'packed':1,'contains_encrypted':0},\n",
    "{'packed':0,'contains_encrypted':0},\n",
    "{'packed':0,'contains_encrypted':0},\n",
    "{'packed':1,'contains_encrypted':1},\n",
    "{'packed':0,'contains_encrypted':0},\n",
    "{'packed':0,'contains_encrypted':0},\n",
    "{'packed':1,'contains_encrypted':1},\n",
    "{'packed':1,'contains_encrypted':0},\n",
    "{'packed':1,'contains_encrypted':1},\n",
    "{'packed':1,'contains_encrypted':0},\n",
    "{'packed':1,'contains_encrypted':1},\n",
    "{'packed':1,'contains_encrypted':0},\n",
    "{'packed':0,'contains_encrypted':1},\n",
    "{'packed':1,'contains_encrypted':0},\n",
    "{'packed':0,'contains_encrypted':1},\n",
    "]\n",
    "ground_truth = [1,1,1,1,0,0,0,0,0,1,0,1,0,1,1,1,0,0,0,1]\n",
    "# initialize the vectorizer with the training data\n",
    "vectorizer.fit(training_examples)\n",
    "\n",
    "# transform the training examples to vector form\n",
    "X = vectorizer.transform(training_examples)\n",
    "y = ground_truth # call ground truth 'y', by convention\n",
    "# train the classifier (a.k.a. 'fit' the classifier)\n",
    "classifier.fit(X,y)\n",
    "test_example = {'packed':1,'contains_encrypted':0}\n",
    "test_vector = vectorizer.transform(test_example)\n",
    "print `classifier.predict(test_vector)` # prints [1]\n",
    "#visualize the decision tree\n",
    "with open(\"classifier_output1.dot\",\"w\") as output_file:\n",
    "    tree.export_graphviz(\n",
    "        classifier,\n",
    "        feature_names=vectorizer.get_feature_names(),\n",
    "        out_file=output_file\n",
    "    )\n",
    "\n",
    "import os\n",
    "os.system(\"dot classifier_output1.dot -Tpng -o classifier_output1.png\")\n",
    "\n"
   ]
  },
  {
   "cell_type": "code",
   "execution_count": null,
   "metadata": {},
   "outputs": [],
   "source": [
    "from IPython.display import Image\n",
    "Image(filename='')"
   ]
  }
 ],
 "metadata": {
  "kernelspec": {
   "display_name": "Python 3",
   "language": "python",
   "name": "python3"
  },
  "language_info": {
   "codemirror_mode": {
    "name": "ipython",
    "version": 3
   },
   "file_extension": ".py",
   "mimetype": "text/x-python",
   "name": "python",
   "nbconvert_exporter": "python",
   "pygments_lexer": "ipython3",
   "version": "3.8.5"
  }
 },
 "nbformat": 4,
 "nbformat_minor": 4
}
